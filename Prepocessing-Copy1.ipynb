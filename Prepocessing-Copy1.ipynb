{
 "cells": [
  {
   "cell_type": "code",
   "execution_count": 1,
   "metadata": {},
   "outputs": [],
   "source": [
    "import pandas as pd\n",
    "import numpy as np"
   ]
  },
  {
   "cell_type": "code",
   "execution_count": 2,
   "metadata": {},
   "outputs": [],
   "source": [
    "df1 = pd.read_excel(\"compound1.xlsx\")\n",
    "df2 = pd.read_excel(\"compound2.xlsx\")"
   ]
  },
  {
   "cell_type": "code",
   "execution_count": 3,
   "metadata": {},
   "outputs": [
    {
     "name": "stdout",
     "output_type": "stream",
     "text": [
      "df2[\"Unnamed: 0\"],\n",
      "df2[\"1 sensor response\"],\n",
      "df2[\"2 sensor response\"],\n",
      "df2[\"3 sensor response\"],\n",
      "df2[\"4 sensor response\"],\n",
      "df2[\"5 sensor response\"],\n",
      "df2[\"6 sensor response\"],\n",
      "df2[\"7 sensor response\"],\n",
      "df2[\"8 sensor response\"],\n",
      "df2[\"9 sensor response\"],\n",
      "df2[\"10 sensor response\"],\n",
      "df2[\"11 sensor response\"],\n",
      "df2[\"12 sensor response\"],\n",
      "df2[\"13 sensor response\"],\n",
      "df2[\"14 sensor response\"],\n",
      "df2[\"15 sensor response\"],\n",
      "df2[\"16 sensor response\"],\n",
      "df2[\"17 sensor response\"],\n",
      "df2[\"18 sensor response\"],\n",
      "df2[\"19 sensor response\"],\n",
      "df2[\"20 sensor response\"],\n",
      "df2[\"21 sensor response\"],\n",
      "df2[\"22 sensor response\"],\n",
      "df2[\"23 sensor response\"],\n",
      "df2[\"24 sensor response\"],\n",
      "df2[\"25 sensor response\"],\n",
      "df2[\"26 sensor response\"],\n",
      "df2[\"27 sensor response\"],\n",
      "df2[\"28 sensor response\"],\n",
      "df2[\"29 sensor response\"],\n",
      "df2[\"30 sensor response\"],\n",
      "df2[\"31 sensor response\"],\n",
      "df2[\"32 sensor response\"],\n",
      "df2[\"33 sensor response\"],\n",
      "df2[\"34 sensor response\"],\n",
      "df2[\"35 sensor response\"],\n",
      "df2[\"36 sensor response\"],\n",
      "df2[\"37 sensor response\"],\n",
      "df2[\"38 sensor response\"],\n",
      "df2[\"39 sensor response\"],\n"
     ]
    }
   ],
   "source": [
    "for i in df2:\n",
    "    print(\"df2[\" + '\"' +i +'\"'+ \"]\"+\",\")"
   ]
  },
  {
   "cell_type": "code",
   "execution_count": 4,
   "metadata": {},
   "outputs": [
    {
     "name": "stdout",
     "output_type": "stream",
     "text": [
      "df1[\"Unnamed: 0\"],\n",
      "df1[\"1 sensor response\"],\n",
      "df1[\"2 sensor response\"],\n",
      "df1[\"3 sensor response\"],\n",
      "df1[\"4 sensor response\"],\n",
      "df1[\"5 sensor response\"],\n",
      "df1[\"6 sensor response\"],\n",
      "df1[\"7 sensor response\"],\n",
      "df1[\"8 sensor response\"],\n",
      "df1[\"9 sensor response\"],\n",
      "df1[\"10 sensor response\"],\n",
      "df1[\"11 sensor response\"],\n",
      "df1[\"12 sensor response\"],\n",
      "df1[\"13 sensor response\"],\n",
      "df1[\"14 sensor response\"],\n",
      "df1[\"15 sensor response\"],\n",
      "df1[\"16 sensor response\"],\n",
      "df1[\"17 sensor response\"],\n",
      "df1[\"18 sensor response\"],\n",
      "df1[\"19 sensor response\"],\n",
      "df1[\"20 sensor response\"],\n",
      "df1[\"21 sensor response\"],\n",
      "df1[\"22 sensor response\"],\n",
      "df1[\"23 sensor response\"],\n",
      "df1[\"24 sensor response\"],\n",
      "df1[\"25 sensor response\"],\n",
      "df1[\"26 sensor response\"],\n",
      "df1[\"27 sensor response\"],\n",
      "df1[\"28 sensor response\"],\n",
      "df1[\"29 sensor response\"],\n",
      "df1[\"30 sensor response\"],\n",
      "df1[\"31 sensor response\"],\n",
      "df1[\"32 sensor response\"],\n",
      "df1[\"33 sensor response\"],\n",
      "df1[\"34 sensor response\"],\n",
      "df1[\"35 sensor response\"],\n",
      "df1[\"36 sensor response\"],\n",
      "df1[\"37 sensor response\"],\n",
      "df1[\"38 sensor response\"],\n"
     ]
    }
   ],
   "source": [
    "for i in df1:\n",
    "    print(\"df1[\" + '\"' +i +'\"'+ \"]\"+\",\")"
   ]
  },
  {
   "cell_type": "code",
   "execution_count": 5,
   "metadata": {},
   "outputs": [],
   "source": [
    "new = pd.concat([df1[\"1 sensor response\"],\n",
    "df1[\"2 sensor response\"],\n",
    "df1[\"3 sensor response\"],\n",
    "df1[\"4 sensor response\"],\n",
    "df1[\"5 sensor response\"],\n",
    "df1[\"6 sensor response\"],\n",
    "df1[\"7 sensor response\"],\n",
    "df1[\"8 sensor response\"],\n",
    "df1[\"9 sensor response\"],\n",
    "df1[\"10 sensor response\"],\n",
    "df1[\"11 sensor response\"],\n",
    "df1[\"12 sensor response\"],\n",
    "df1[\"13 sensor response\"],\n",
    "df1[\"14 sensor response\"],\n",
    "df1[\"15 sensor response\"],\n",
    "df1[\"16 sensor response\"],\n",
    "df1[\"17 sensor response\"],\n",
    "df1[\"18 sensor response\"],\n",
    "df1[\"19 sensor response\"],\n",
    "df1[\"20 sensor response\"],\n",
    "df1[\"21 sensor response\"],\n",
    "df1[\"22 sensor response\"],\n",
    "df1[\"23 sensor response\"],\n",
    "df1[\"24 sensor response\"],\n",
    "df1[\"25 sensor response\"],\n",
    "df1[\"26 sensor response\"],\n",
    "df1[\"27 sensor response\"],\n",
    "df1[\"28 sensor response\"],\n",
    "df1[\"29 sensor response\"],\n",
    "df1[\"30 sensor response\"],\n",
    "df1[\"31 sensor response\"],\n",
    "df1[\"32 sensor response\"],\n",
    "df1[\"33 sensor response\"],\n",
    "df1[\"34 sensor response\"],\n",
    "df1[\"35 sensor response\"],\n",
    "df1[\"36 sensor response\"],\n",
    "df1[\"37 sensor response\"],\n",
    "df1[\"38 sensor response\"],\n",
    "df2[\"1 sensor response\"],\n",
    "df2[\"2 sensor response\"],\n",
    "df2[\"3 sensor response\"],\n",
    "df2[\"4 sensor response\"],\n",
    "df2[\"5 sensor response\"],\n",
    "df2[\"6 sensor response\"],\n",
    "df2[\"7 sensor response\"],\n",
    "df2[\"8 sensor response\"],\n",
    "df2[\"9 sensor response\"],\n",
    "df2[\"10 sensor response\"],\n",
    "df2[\"11 sensor response\"],\n",
    "df2[\"12 sensor response\"],\n",
    "df2[\"13 sensor response\"],\n",
    "df2[\"14 sensor response\"],\n",
    "df2[\"15 sensor response\"],\n",
    "df2[\"16 sensor response\"],\n",
    "df2[\"17 sensor response\"],\n",
    "df2[\"18 sensor response\"],\n",
    "df2[\"19 sensor response\"],\n",
    "df2[\"20 sensor response\"],\n",
    "df2[\"21 sensor response\"],\n",
    "df2[\"22 sensor response\"],\n",
    "df2[\"23 sensor response\"],\n",
    "df2[\"24 sensor response\"],\n",
    "df2[\"25 sensor response\"],\n",
    "df2[\"26 sensor response\"],\n",
    "df2[\"27 sensor response\"],\n",
    "df2[\"28 sensor response\"],\n",
    "df2[\"29 sensor response\"],\n",
    "df2[\"30 sensor response\"],\n",
    "df2[\"31 sensor response\"],\n",
    "df2[\"32 sensor response\"],\n",
    "df2[\"33 sensor response\"],\n",
    "df2[\"34 sensor response\"],\n",
    "df2[\"35 sensor response\"],\n",
    "df2[\"36 sensor response\"],\n",
    "df2[\"37 sensor response\"],\n",
    "df2[\"38 sensor response\"],\n",
    "df2[\"39 sensor response\"]])"
   ]
  },
  {
   "cell_type": "code",
   "execution_count": 6,
   "metadata": {},
   "outputs": [
    {
     "name": "stdout",
     "output_type": "stream",
     "text": [
      "   Time      High\n",
      "0     0  0.013786\n",
      "1     1  0.017507\n",
      "2     2  0.017326\n",
      "3     3  0.017236\n",
      "4     4  0.017610\n",
      "(77000, 2)\n"
     ]
    }
   ],
   "source": [
    "new = pd.DataFrame(new)\n",
    "new.to_excel(\"new.xlsx\")\n",
    "preprocess = pd.read_excel(\"new.xlsx\")\n",
    "preprocess.columns = ([\"Time\",\"High\"])\n",
    "print(preprocess.head())\n",
    "print(preprocess.shape)"
   ]
  },
  {
   "cell_type": "code",
   "execution_count": 7,
   "metadata": {},
   "outputs": [],
   "source": [
    "l = []\n",
    "\n",
    "for i in df1.columns[1:]:\n",
    "    for x in range(0,1000):\n",
    "        m = i+\" c1\"\n",
    "        l.append(m)\n",
    "        \n",
    "k = []\n",
    "for i in df2.columns[1:]:\n",
    "    for x in range(0,1000):\n",
    "        n = i+\"  c2\"\n",
    "        k.append(n)\n",
    "\n",
    "\n"
   ]
  },
  {
   "cell_type": "code",
   "execution_count": 8,
   "metadata": {},
   "outputs": [],
   "source": [
    "l = pd.DataFrame(l,index=None)\n",
    "k = pd.DataFrame(k,index=None)"
   ]
  },
  {
   "cell_type": "code",
   "execution_count": 9,
   "metadata": {},
   "outputs": [
    {
     "name": "stdout",
     "output_type": "stream",
     "text": [
      "(38000, 1)\n",
      "(39000, 1)\n"
     ]
    }
   ],
   "source": [
    "print(l.shape)\n",
    "print(k.shape)"
   ]
  },
  {
   "cell_type": "code",
   "execution_count": 10,
   "metadata": {},
   "outputs": [
    {
     "name": "stdout",
     "output_type": "stream",
     "text": [
      "(77000, 1)\n",
      "(77000, 2)\n"
     ]
    }
   ],
   "source": [
    "last = pd.concat([l,k],axis=0)\n",
    "last.columns = ([\"Symbols\"])\n",
    "print(last.shape)\n",
    "print(preprocess.shape)"
   ]
  },
  {
   "cell_type": "code",
   "execution_count": 11,
   "metadata": {},
   "outputs": [],
   "source": [
    "last.to_excel(\"last.xlsx\",index=None)\n",
    "preprocess.to_excel(\"preprocess.xlsx\")"
   ]
  },
  {
   "cell_type": "code",
   "execution_count": null,
   "metadata": {},
   "outputs": [],
   "source": []
  }
 ],
 "metadata": {
  "kernelspec": {
   "display_name": "Python 3",
   "language": "python",
   "name": "python3"
  },
  "language_info": {
   "codemirror_mode": {
    "name": "ipython",
    "version": 3
   },
   "file_extension": ".py",
   "mimetype": "text/x-python",
   "name": "python",
   "nbconvert_exporter": "python",
   "pygments_lexer": "ipython3",
   "version": "3.7.5"
  }
 },
 "nbformat": 4,
 "nbformat_minor": 2
}
